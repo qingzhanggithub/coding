{
 "metadata": {
  "name": ""
 },
 "nbformat": 3,
 "nbformat_minor": 0,
 "worksheets": [
  {
   "cells": [
    {
     "cell_type": "code",
     "collapsed": false,
     "input": [
      "# Leetcode : Perfect square\n",
      "import math\n",
      "class Solution(object):\n",
      "    def numSquares(self, n):\n",
      "        \"\"\"\n",
      "        :type n: int\n",
      "        :rtype: int\n",
      "        \"\"\"\n",
      "        paths=[]\n",
      "        nums=[]\n",
      "        largest=int(math.sqrt(n))\n",
      "        self.helper(n,largest,paths,nums)\n",
      "        return min(nums)\n",
      "    \n",
      "    def helper(self, n, largest, paths, nums):\n",
      "        if n==0:\n",
      "            nums.append(len(paths))\n",
      "            print paths\n",
      "            return\n",
      "        \n",
      "        i=largest\n",
      "        while i>=1:\n",
      "            if n-i*i <0: # i may be too large, need check here\n",
      "                i-=1\n",
      "                continue\n",
      "            paths.append(i)\n",
      "            \n",
      "            self.helper(n-i*i, i, paths, nums)\n",
      "            paths.pop()\n",
      "            i-=1\n",
      "        "
     ],
     "language": "python",
     "metadata": {},
     "outputs": [],
     "prompt_number": 3
    },
    {
     "cell_type": "code",
     "collapsed": false,
     "input": [
      "sol = Solution()\n",
      "n=sol.numSquares(5)\n",
      "print n"
     ],
     "language": "python",
     "metadata": {},
     "outputs": [
      {
       "output_type": "stream",
       "stream": "stdout",
       "text": [
        "[2, 1]\n",
        "[1, 1, 1, 1, 1]\n",
        "2\n"
       ]
      }
     ],
     "prompt_number": 5
    },
    {
     "cell_type": "code",
     "collapsed": false,
     "input": [
      "# Leetcode 254: Factor combination\n",
      "import math\n",
      "import copy\n",
      "class Solution254(object):\n",
      "    def getFactors(self, n):\n",
      "        \"\"\"\n",
      "        :type n: int\n",
      "        :rtype: List[List[int]]\n",
      "        \"\"\"\n",
      "        paths =[]\n",
      "        path =[]\n",
      "        self.helper(n, n/2 , paths, path)\n",
      "        return paths\n",
      "        \n",
      "    def helper(self, n, largest, paths, path):\n",
      "        if n==1 :\n",
      "            paths.append(copy.copy(path))\n",
      "            return\n",
      "        t = largest\n",
      "        while t > 1:\n",
      "            if n % t == 0:\n",
      "                path.append(t)\n",
      "                self.helper(n/t, t, paths, path)\n",
      "                path.pop()\n",
      "            t -=1"
     ],
     "language": "python",
     "metadata": {},
     "outputs": [],
     "prompt_number": 10
    },
    {
     "cell_type": "code",
     "collapsed": false,
     "input": [
      "s254 = Solution254()\n",
      "paths = s254.getFactors(23848713)\n",
      "print paths"
     ],
     "language": "python",
     "metadata": {},
     "outputs": [
      {
       "output_type": "stream",
       "stream": "stdout",
       "text": [
        "[[7949571, 3], [3406959, 7], [2649857, 9], [2649857, 3, 3], [1135653, 21], [1135653, 7, 3], [378551, 63], [378551, 21, 3], [378551, 9, 7], [378551, 7, 3, 3]]\n"
       ]
      }
     ],
     "prompt_number": 12
    }
   ],
   "metadata": {}
  }
 ]
}